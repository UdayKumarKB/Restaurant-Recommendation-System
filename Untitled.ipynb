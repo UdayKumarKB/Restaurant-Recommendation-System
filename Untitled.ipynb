{
 "cells": [
  {
   "cell_type": "code",
   "execution_count": 34,
   "metadata": {},
   "outputs": [
    {
     "name": "stdout",
     "output_type": "stream",
     "text": [
      "[  1  27   5   1  14 284  35   1]\n",
      "[0]\n"
     ]
    },
    {
     "name": "stderr",
     "output_type": "stream",
     "text": [
      "/home/kajal/.local/lib/python3.5/site-packages/ipykernel_launcher.py:29: SettingWithCopyWarning: \n",
      "A value is trying to be set on a copy of a slice from a DataFrame.\n",
      "Try using .loc[row_indexer,col_indexer] = value instead\n",
      "\n",
      "See the caveats in the documentation: http://pandas.pydata.org/pandas-docs/stable/indexing.html#indexing-view-versus-copy\n"
     ]
    }
   ],
   "source": [
    "import numpy as np # linear algebra\n",
    "import pandas as pd # data processing, CSV file I/O (e.g. pd.read_csv)\n",
    "\n",
    "import os\n",
    "\n",
    "import pandas as pd\n",
    "import seaborn as sns\n",
    "import numpy as np\n",
    "import matplotlib.pyplot as plt\n",
    "\n",
    "\n",
    "def infer():\n",
    "\n",
    "\n",
    "    df = pd.read_csv('oasis_longitudinal.csv')\n",
    "\n",
    "#print(\"Loading dataset\")\n",
    "\n",
    "#fill null value with their column mean and median\n",
    "    df[\"SES\"].fillna(df[\"SES\"].median(), inplace=True)\n",
    "    df[\"MMSE\"].fillna(df[\"MMSE\"].mean(), inplace=True)\n",
    "\n",
    "\n",
    "\n",
    "\n",
    "    ex_df = df.loc[df['Visit'] == 1]\n",
    "\n",
    "\n",
    "    ex_df['Group'] = ex_df['Group'].replace(['Converted'], ['Demented'])\n",
    "    df['Group'] = df['Group'].replace(['Converted'], ['Demented'])\n",
    "\n",
    "\n",
    "#convet the charecter data into numeric\n",
    "    group_map = {\"Demented\": 1, \"Nondemented\": 0}\n",
    "\n",
    "    df['Group'] = df['Group'].map(group_map)\n",
    "    df['M/F'] = df['M/F'].replace(['F','M'], [0,1])\n",
    "\n",
    "\n",
    "\n",
    "# Encode columns into numeric\n",
    "    from sklearn.preprocessing import LabelEncoder\n",
    "    for column in df.columns:\n",
    "        le = LabelEncoder()\n",
    "        df[column] = le.fit_transform(df[column])\n",
    "\n",
    "    #print(df.head(5))\n",
    "    feature_col_names = [\"M/F\", \"Age\", \"EDUC\", \"SES\", \"MMSE\", \"eTIV\", \"nWBV\", \"ASF\"]\n",
    "    predicted_class_names = ['Group']\n",
    "\n",
    "    X = df[feature_col_names].values\n",
    "    y = df[predicted_class_names].values\n",
    "    from sklearn.model_selection import train_test_split\n",
    "    print(X[0])\n",
    "    X_train, X_test, y_train, y_test = train_test_split(X, y, test_size=0.0)\n",
    "    from sklearn.tree import ExtraTreeClassifier\n",
    "    model=ExtraTreeClassifier()\n",
    "    model.fit(X_train,y_train.ravel())\n",
    "    X = pd.DataFrame(X_train)\n",
    "    print(model.predict([[1,75,12,3,23,1678,0.736,1.016]]))\n",
    "infer()       "
   ]
  },
  {
   "cell_type": "code",
   "execution_count": null,
   "metadata": {},
   "outputs": [],
   "source": []
  },
  {
   "cell_type": "code",
   "execution_count": null,
   "metadata": {},
   "outputs": [],
   "source": []
  }
 ],
 "metadata": {
  "kernelspec": {
   "display_name": "Python 3",
   "language": "python",
   "name": "python3"
  },
  "language_info": {
   "codemirror_mode": {
    "name": "ipython",
    "version": 3
   },
   "file_extension": ".py",
   "mimetype": "text/x-python",
   "name": "python",
   "nbconvert_exporter": "python",
   "pygments_lexer": "ipython3",
   "version": "3.5.2"
  }
 },
 "nbformat": 4,
 "nbformat_minor": 2
}
