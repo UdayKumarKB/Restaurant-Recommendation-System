{
 "cells": [
  {
   "cell_type": "code",
   "execution_count": 1,
   "metadata": {},
   "outputs": [],
   "source": [
    "import ipywidgets as widgets\n",
    "from IPython.display import display\n",
    "import pandas as pd\n",
    "\n",
    "\n"
   ]
  },
  {
   "cell_type": "code",
   "execution_count": 6,
   "metadata": {},
   "outputs": [
    {
     "data": {
      "application/vnd.jupyter.widget-view+json": {
       "model_id": "bfab8098a8804d8a93da6344317ecbb1",
       "version_major": 2,
       "version_minor": 0
      },
      "text/plain": [
       "Text(value='NAME', description='Choose a Restaurant you previously loved', placeholder='NAME')"
      ]
     },
     "metadata": {},
     "output_type": "display_data"
    },
    {
     "data": {
      "application/vnd.jupyter.widget-view+json": {
       "model_id": "8e0fe35dcbe342c6b56051f126a6be8b",
       "version_major": 2,
       "version_minor": 0
      },
      "text/plain": [
       "FloatText(value=7.5, description='Choose a Restaurant you previously loved')"
      ]
     },
     "metadata": {},
     "output_type": "display_data"
    },
    {
     "data": {
      "application/vnd.jupyter.widget-view+json": {
       "model_id": "d42815a5153148e89213738f52dd7de6",
       "version_major": 2,
       "version_minor": 0
      },
      "text/plain": [
       "Button(description='Sumbit', style=ButtonStyle())"
      ]
     },
     "metadata": {},
     "output_type": "display_data"
    }
   ],
   "source": [
    "def inference_display():\n",
    "    NAME=widgets.Text(\n",
    "        value='NAME',\n",
    "        placeholder='NAME',\n",
    "        description='Choose a Restaurant you previously loved',\n",
    "        disabled=False\n",
    "    )\n",
    "    display(NAME)\n",
    "   \n",
    "\n",
    "    text4=widgets.FloatText(\n",
    "            value=7.5,\n",
    "            description='Choose a Restaurant you previously loved',\n",
    "            disabled=False\n",
    "        )\n",
    "\n",
    "    display(text4)\n",
    "   \n",
    "\n",
    "    btn=widgets.Button(description=\"Sumbit\")\n",
    "    display(btn)\n",
    "\n",
    "   # btn.on_click(infer)\n",
    "\n",
    "\n",
    "    def infer(b):\n",
    "        df = pd.read_csv('oasis_longitudinal.csv')\n",
    "\n",
    "    #print(\"Loading dataset\")\n",
    "\n",
    "    #fill null value with their column mean and median\n",
    "        df[\"SES\"].fillna(df[\"SES\"].median(), inplace=True)\n",
    "        df[\"MMSE\"].fillna(df[\"MMSE\"].mean(), inplace=True)\n",
    "\n",
    "\n",
    "\n",
    "\n",
    "        ex_df = df.loc[df['Visit'] == 1]\n",
    "\n",
    "\n",
    "        ex_df['Group'] = ex_df['Group'].replace(['Converted'], ['Demented'])\n",
    "        df['Group'] = df['Group'].replace(['Converted'], ['Demented'])\n",
    "\n",
    "\n",
    "    #convet the charecter data into numeric\n",
    "        group_map = {\"Demented\": 1, \"Nondemented\": 0}\n",
    "\n",
    "        df['Group'] = df['Group'].map(group_map)\n",
    "        df['M/F'] = df['M/F'].replace(['F','M'], [0,1])\n",
    "\n",
    "\n",
    "\n",
    "    # Encode columns into numeric\n",
    "        from sklearn.preprocessing import LabelEncoder\n",
    "        for column in df.columns:\n",
    "            le = LabelEncoder()\n",
    "            df[column] = le.fit_transform(df[column])\n",
    "\n",
    "        #print(df.head(5))\n",
    "        feature_col_names = [\"M/F\", \"Age\", \"EDUC\", \"SES\", \"MMSE\", \"eTIV\", \"nWBV\", \"ASF\"]\n",
    "        predicted_class_names = ['Group']\n",
    "\n",
    "        X = df[feature_col_names].values\n",
    "        y = df[predicted_class_names].values\n",
    "        from sklearn.model_selection import train_test_split\n",
    "        X_train, X_test, y_train, y_test = train_test_split(X, y, test_size=0.0)\n",
    "        from sklearn.tree import ExtraTreeClassifier\n",
    "        from sklearn.ensemble import RandomForestClassifier  \n",
    "        rfc=RandomForestClassifier(criterion='gini',max_depth=8,max_features='auto',n_estimators=200)\n",
    "\n",
    "        param_grid = { \n",
    "            'n_estimators': [200],\n",
    "            'max_features': ['auto'],\n",
    "            'max_depth' : [4,5,6,7,8],\n",
    "            'criterion' :['gini']\n",
    "        }\n",
    "\n",
    "        #CV_rfc = GridSearchCV(estimator=rfc, param_grid=param_grid, cv= 5,scoring = 'roc_auc')\n",
    "        rfc.fit(X_train, y_train.ravel())\n",
    "        #print(\"Best parameters set found on development set:\")\n",
    "        #print(rfc.best_params_)\n",
    "\n",
    "\n",
    "        y_pred=rfc.predict([[gen,text2.value,text3.value,text4.value,text5.value,text6.value,text7.value,text8.value]])\n",
    "\n",
    "        if(y_pred ==1):\n",
    "            print(\"The patient is demented\")\n",
    "        else:\n",
    "            print(\"The patient is not demented\")\n",
    "    btn.on_click(infer)\n",
    "\n",
    "inference_display()"
   ]
  },
  {
   "cell_type": "code",
   "execution_count": null,
   "metadata": {},
   "outputs": [],
   "source": []
  }
 ],
 "metadata": {
  "kernelspec": {
   "display_name": "Python 3",
   "language": "python",
   "name": "python3"
  },
  "language_info": {
   "codemirror_mode": {
    "name": "ipython",
    "version": 3
   },
   "file_extension": ".py",
   "mimetype": "text/x-python",
   "name": "python",
   "nbconvert_exporter": "python",
   "pygments_lexer": "ipython3",
   "version": "3.7.4"
  }
 },
 "nbformat": 4,
 "nbformat_minor": 2
}
